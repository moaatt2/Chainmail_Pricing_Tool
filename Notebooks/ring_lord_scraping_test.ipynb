{
 "cells": [
  {
   "attachments": {},
   "cell_type": "markdown",
   "metadata": {},
   "source": [
    "# Ring Lord Scraping"
   ]
  },
  {
   "cell_type": "markdown",
   "metadata": {},
   "source": [
    "## Imports and Setup"
   ]
  },
  {
   "cell_type": "code",
   "execution_count": 1,
   "metadata": {},
   "outputs": [],
   "source": [
    "# Imports\n",
    "import requests\n",
    "from bs4 import BeautifulSoup\n",
    "from lxml import etree\n",
    "from time import sleep"
   ]
  },
  {
   "attachments": {},
   "cell_type": "markdown",
   "metadata": {},
   "source": [
    "## Get Data"
   ]
  },
  {
   "attachments": {},
   "cell_type": "markdown",
   "metadata": {},
   "source": [
    "### Get All Ring Categories"
   ]
  },
  {
   "cell_type": "code",
   "execution_count": 25,
   "metadata": {},
   "outputs": [
    {
     "name": "stdout",
     "output_type": "stream",
     "text": [
      "https://theringlord.com/rings/anodized-aluminum/\n",
      "https://theringlord.com/rings/bright-aluminum/\n",
      "https://theringlord.com/rings/niobium/\n",
      "https://theringlord.com/rings/titanium/\n",
      "https://theringlord.com/rings/rubber/\n",
      "https://theringlord.com/rings/galvanized-steel/\n",
      "https://theringlord.com/rings/plated/\n",
      "https://theringlord.com/rings/carbon-steel/\n",
      "https://theringlord.com/rings/engineered-plastic/\n",
      "https://theringlord.com/rings/black-stainless/\n",
      "https://theringlord.com/rings/enameled-copper/\n",
      "https://theringlord.com/rings/bronze/\n",
      "https://theringlord.com/rings/brass/\n",
      "https://theringlord.com/rings/stainless-steel/\n",
      "https://theringlord.com/rings/nickel-silver/\n",
      "https://theringlord.com/rings/copper/\n",
      "https://theringlord.com/rings/punched-solid-split/\n",
      "https://theringlord.com/rings/silver/\n"
     ]
    }
   ],
   "source": [
    "\n",
    "# Get page with all rings\n",
    "response = requests.get('https://theringlord.com/rings/')\n",
    "\n",
    "# Load page into beautiful soup\n",
    "soup = BeautifulSoup(response.content, 'html.parser')\n",
    "\n",
    "# Get all unique product links in the page\n",
    "ring_types = set()\n",
    "for item in soup.find_all('li', {'class': 'product'}):\n",
    "    for a in item.find_all('a'):\n",
    "        link = a['href']\n",
    "        ring_types.add(link)\n",
    "\n",
    "for category in ring_types:\n",
    "    print(category)\n"
   ]
  }
 ],
 "metadata": {
  "kernelspec": {
   "display_name": ".venv",
   "language": "python",
   "name": "python3"
  },
  "language_info": {
   "codemirror_mode": {
    "name": "ipython",
    "version": 3
   },
   "file_extension": ".py",
   "mimetype": "text/x-python",
   "name": "python",
   "nbconvert_exporter": "python",
   "pygments_lexer": "ipython3",
   "version": "3.9.13"
  },
  "orig_nbformat": 4
 },
 "nbformat": 4,
 "nbformat_minor": 2
}
