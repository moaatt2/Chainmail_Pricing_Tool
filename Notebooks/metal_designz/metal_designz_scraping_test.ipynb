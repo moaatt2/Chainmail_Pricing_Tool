{
 "cells": [
  {
   "attachments": {},
   "cell_type": "markdown",
   "metadata": {},
   "source": [
    "# Metal Designz Scraping"
   ]
  },
  {
   "attachments": {},
   "cell_type": "markdown",
   "metadata": {},
   "source": [
    "## Imports and Setup"
   ]
  },
  {
   "cell_type": "code",
   "execution_count": 1,
   "metadata": {},
   "outputs": [],
   "source": [
    "# Imports\n",
    "import requests\n",
    "from bs4 import BeautifulSoup\n",
    "from time import sleep\n",
    "import csv\n",
    "\n",
    "# Set Variables\n",
    "SLEEP_TIME = 5\n",
    "STARTING_LINK = 'https://www.metaldesignz.com/jump-rings/'\n",
    "LINK_FILE_PATH = '../../product_page_listings/metal_designz/metal_designz_products.csv'\n"
   ]
  },
  {
   "attachments": {},
   "cell_type": "markdown",
   "metadata": {},
   "source": [
    "## Get Data"
   ]
  },
  {
   "attachments": {},
   "cell_type": "markdown",
   "metadata": {},
   "source": [
    "### Find All Product Pages\n",
    "\n",
    "Looking at their website it appears that the basic structure is a main page with side bar links to sub pages for each ring category. The sub pages link to product pages but if there are enough product pages they will be paginated.\n"
   ]
  },
  {
   "cell_type": "code",
   "execution_count": 2,
   "metadata": {},
   "outputs": [
    {
     "name": "stdout",
     "output_type": "stream",
     "text": [
      "Checking cateogry: 0 -  https://www.metaldesignz.com/anodized-aluminum/\n",
      "Found New Page: https://www.metaldesignz.com/anodized-aluminum/?page=2\n",
      "Found New Page: https://www.metaldesignz.com/anodized-aluminum/?page=3\n",
      "Checking cateogry: 1 -  https://www.metaldesignz.com/sterling-silver/\n",
      "Checking cateogry: 2 -  https://www.metaldesignz.com/half-round-wire-rings/\n",
      "Checking cateogry: 3 -  https://www.metaldesignz.com/new-anodized-aluminum/\n",
      "Checking cateogry: 4 -  https://www.metaldesignz.com/gold-fill/\n",
      "Found New Page: https://www.metaldesignz.com/gold-fill/?page=2\n",
      "Found New Page: https://www.metaldesignz.com/gold-fill/?page=3\n",
      "Checking cateogry: 5 -  https://www.metaldesignz.com/niobium/\n",
      "Found New Page: https://www.metaldesignz.com/niobium/?page=2\n",
      "Checking cateogry: 6 -  https://www.metaldesignz.com/copper-1/\n",
      "Found New Page: https://www.metaldesignz.com/copper-1/?page=2\n",
      "Found New Page: https://www.metaldesignz.com/copper-1/?page=3\n",
      "Found New Page: https://www.metaldesignz.com/copper-1/?page=4\n",
      "Found New Page: https://www.metaldesignz.com/copper-1/?page=5\n",
      "Checking cateogry: 7 -  https://www.metaldesignz.com/bronze/\n",
      "Found New Page: https://www.metaldesignz.com/bronze/?page=2\n",
      "Found New Page: https://www.metaldesignz.com/bronze/?page=3\n",
      "Found New Page: https://www.metaldesignz.com/bronze/?page=4\n",
      "Checking cateogry: 8 -  https://www.metaldesignz.com/rubber/\n",
      "Found New Page: https://www.metaldesignz.com/rubber/?page=2\n",
      "Checking cateogry: 9 -  https://www.metaldesignz.com/square-jump-rings/\n",
      "Checking cateogry: 10 -  https://www.metaldesignz.com/stainless-steel/\n",
      "Found New Page: https://www.metaldesignz.com/stainless-steel/?page=2\n",
      "Found New Page: https://www.metaldesignz.com/stainless-steel/?page=3\n",
      "Found New Page: https://www.metaldesignz.com/stainless-steel/?page=4\n",
      "Found New Page: https://www.metaldesignz.com/stainless-steel/?page=5\n",
      "Found New Page: https://www.metaldesignz.com/stainless-steel/?page=6\n",
      "Found New Page: https://www.metaldesignz.com/stainless-steel/?page=7\n",
      "Found New Page: https://www.metaldesignz.com/stainless-steel/?page=8\n",
      "Checking cateogry: 11 -  https://www.metaldesignz.com/titanium/\n",
      "Found New Page: https://www.metaldesignz.com/titanium/?page=2\n",
      "Found New Page: https://www.metaldesignz.com/titanium/?page=3\n",
      "Found New Page: https://www.metaldesignz.com/titanium/?page=4\n",
      "Found New Page: https://www.metaldesignz.com/titanium/?page=5\n",
      "Found New Page: https://www.metaldesignz.com/titanium/?page=6\n",
      "Found New Page: https://www.metaldesignz.com/titanium/?page=7\n",
      "Found New Page: https://www.metaldesignz.com/titanium/?page=8\n",
      "Checking cateogry: 12 -  https://www.metaldesignz.com/bright-aluminum/\n",
      "Found New Page: https://www.metaldesignz.com/bright-aluminum/?page=2\n",
      "Found New Page: https://www.metaldesignz.com/bright-aluminum/?page=3\n",
      "Found New Page: https://www.metaldesignz.com/bright-aluminum/?page=4\n",
      "Found New Page: https://www.metaldesignz.com/bright-aluminum/?page=5\n",
      "Found New Page: https://www.metaldesignz.com/bright-aluminum/?page=6\n",
      "Checking cateogry: 13 -  https://www.metaldesignz.com/twisted/\n",
      "Checking cateogry: 14 -  https://www.metaldesignz.com/sterling-silver-filled/\n",
      "Checking cateogry: 15 -  https://www.metaldesignz.com/jewelers-brass/\n",
      "Found New Page: https://www.metaldesignz.com/jewelers-brass/?page=2\n"
     ]
    }
   ],
   "source": [
    "\n",
    "# Helper function that gets the product links from a category page\n",
    "def get_product_links(soup: BeautifulSoup, writer: csv.writer) -> None:\n",
    "    product_grid = soup.find('ul', {'class': 'productGrid'})\n",
    "    products = product_grid.find_all('li', {'class': 'product'})\n",
    "\n",
    "    for product in products:\n",
    "        link_tag = product.find('a', {'class': 'card-figure__link'})\n",
    "        link = link_tag['href']\n",
    "        writer.writerow([link])\n",
    "\n",
    "\n",
    "# Get link to next page if applicable\n",
    "def get_next_page(soup: BeautifulSoup) -> str:\n",
    "    next_page = None\n",
    "    pagination = soup.find('nav', {'class': 'pagination'})\n",
    "    link_tag = pagination.find('a', {'aria-label': 'Next'})\n",
    "\n",
    "    if link_tag:\n",
    "        next_page = link_tag['href']\n",
    "    \n",
    "    return next_page\n",
    "\n",
    "\n",
    "# From the starting link find all product pages\n",
    "def page_parser(url: str, writer: csv.writer) -> None:\n",
    "\n",
    "    # Get page and create a parsable object\n",
    "    response = requests.get(url)\n",
    "    soup = BeautifulSoup(response.content, 'html.parser')\n",
    "\n",
    "    # Get links to category pages\n",
    "    sidebar = soup.find('aside', {'class': 'page-sidebar'})\n",
    "    category_sidebar = sidebar.find(lambda tag: tag.name == 'div' and tag.find('h2', string='Jump Rings') is not None)\n",
    "    category_links = set(map(lambda tag: tag['href'], category_sidebar.find_all('a')))\n",
    "\n",
    "    # Iterate through top level links\n",
    "    for num, link in enumerate(category_links):\n",
    "        print(f\"Checking cateogry: {num} -  {link}\")\n",
    "        sleep(5)\n",
    "\n",
    "        # Get first page of category\n",
    "        response = requests.get(link)\n",
    "        soup = BeautifulSoup(response.content, 'html.parser')\n",
    "\n",
    "        # Get the product links from the page\n",
    "        get_product_links(soup, writer)\n",
    "\n",
    "        # Get link to the next page\n",
    "        next_page = get_next_page(soup)\n",
    "\n",
    "        # Itterate through remaining pages if applicable\n",
    "        while next_page:\n",
    "            print(f'Found New Page: {next_page}')\n",
    "            sleep(5)\n",
    "\n",
    "            # Get new page            \n",
    "            response = requests.get(next_page)\n",
    "            soup = BeautifulSoup(response.content, 'html.parser')\n",
    "\n",
    "            # Print product links\n",
    "            get_product_links(soup, writer)\n",
    "\n",
    "            # Get next page if applicable\n",
    "            next_page = get_next_page(soup)\n",
    "\n",
    "\n",
    "# Use function to write links to file\n",
    "with open(LINK_FILE_PATH, 'w', newline='') as outfile:\n",
    "    writer = csv.writer(outfile)\n",
    "    page_parser(STARTING_LINK, writer)\n"
   ]
  },
  {
   "attachments": {},
   "cell_type": "markdown",
   "metadata": {},
   "source": [
    "### Get Data From Product Pages"
   ]
  },
  {
   "cell_type": "code",
   "execution_count": null,
   "metadata": {},
   "outputs": [],
   "source": []
  }
 ],
 "metadata": {
  "kernelspec": {
   "display_name": ".venv",
   "language": "python",
   "name": "python3"
  },
  "language_info": {
   "codemirror_mode": {
    "name": "ipython",
    "version": 3
   },
   "file_extension": ".py",
   "mimetype": "text/x-python",
   "name": "python",
   "nbconvert_exporter": "python",
   "pygments_lexer": "ipython3",
   "version": "3.9.13"
  },
  "orig_nbformat": 4
 },
 "nbformat": 4,
 "nbformat_minor": 2
}
