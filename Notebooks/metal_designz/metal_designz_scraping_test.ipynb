{
 "cells": [
  {
   "attachments": {},
   "cell_type": "markdown",
   "metadata": {},
   "source": [
    "# Metal Designz Scraping"
   ]
  },
  {
   "attachments": {},
   "cell_type": "markdown",
   "metadata": {},
   "source": [
    "## Imports and Setup"
   ]
  },
  {
   "cell_type": "code",
   "execution_count": 1,
   "metadata": {},
   "outputs": [],
   "source": [
    "# Imports\n",
    "import requests\n",
    "from bs4 import BeautifulSoup\n",
    "from time import sleep\n",
    "import datetime\n",
    "import csv\n",
    "import re\n",
    "\n",
    "# Selenium Scraping imports\n",
    "from selenium import webdriver \n",
    "from selenium.webdriver.chrome.service import Service\n",
    "from selenium.webdriver.common.by import By\n",
    "from webdriver_manager.chrome import ChromeDriverManager\n",
    "from selenium.webdriver.chrome.options import Options\n",
    "\n",
    "# Set Variables\n",
    "SLEEP_TIME = 5\n",
    "STARTING_LINK = 'https://www.metaldesignz.com/jump-rings/'\n",
    "LINK_FILE_PATH = '../../product_page_listings/metal_designz/metal_designz_products.csv'\n"
   ]
  },
  {
   "attachments": {},
   "cell_type": "markdown",
   "metadata": {},
   "source": [
    "## Get Data"
   ]
  },
  {
   "attachments": {},
   "cell_type": "markdown",
   "metadata": {},
   "source": [
    "### Find All Product Pages\n",
    "\n",
    "Looking at their website it appears that the basic structure is a main page with side bar links to sub pages for each ring category. The sub pages link to product pages but if there are enough product pages they will be paginated.\n"
   ]
  },
  {
   "cell_type": "code",
   "execution_count": null,
   "metadata": {},
   "outputs": [],
   "source": [
    "\n",
    "# Helper function that gets the product links from a category page\n",
    "def get_product_links(soup: BeautifulSoup, writer: csv.writer) -> None:\n",
    "    product_grid = soup.find('ul', {'class': 'productGrid'})\n",
    "    products = product_grid.find_all('li', {'class': 'product'})\n",
    "\n",
    "    for product in products:\n",
    "        link_tag = product.find('a', {'class': 'card-figure__link'})\n",
    "        link = link_tag['href']\n",
    "        writer.writerow([link])\n",
    "\n",
    "\n",
    "# Get link to next page if applicable\n",
    "def get_next_page(soup: BeautifulSoup) -> str:\n",
    "    next_page = None\n",
    "    pagination = soup.find('nav', {'class': 'pagination'})\n",
    "    link_tag = pagination.find('a', {'aria-label': 'Next'})\n",
    "\n",
    "    if link_tag:\n",
    "        next_page = link_tag['href']\n",
    "    \n",
    "    return next_page\n",
    "\n",
    "\n",
    "# From the starting link find all product pages\n",
    "def page_parser(url: str, writer: csv.writer) -> None:\n",
    "\n",
    "    # Get page and create a parsable object\n",
    "    response = requests.get(url)\n",
    "    soup = BeautifulSoup(response.content, 'html.parser')\n",
    "\n",
    "    # Get links to category pages\n",
    "    sidebar = soup.find('aside', {'class': 'page-sidebar'})\n",
    "    category_sidebar = sidebar.find(lambda tag: tag.name == 'div' and tag.find('h2', string='Jump Rings') is not None)\n",
    "    category_links = set(map(lambda tag: tag['href'], category_sidebar.find_all('a')))\n",
    "\n",
    "    # Iterate through top level links\n",
    "    for num, link in enumerate(category_links):\n",
    "        print(f\"Checking cateogry: {num} -  {link}\")\n",
    "        sleep(5)\n",
    "\n",
    "        # Get first page of category\n",
    "        response = requests.get(link)\n",
    "        soup = BeautifulSoup(response.content, 'html.parser')\n",
    "\n",
    "        # Get the product links from the page\n",
    "        get_product_links(soup, writer)\n",
    "\n",
    "        # Get link to the next page\n",
    "        next_page = get_next_page(soup)\n",
    "\n",
    "        # Itterate through remaining pages if applicable\n",
    "        while next_page:\n",
    "            print(f'Found New Page: {next_page}')\n",
    "            sleep(5)\n",
    "\n",
    "            # Get new page            \n",
    "            response = requests.get(next_page)\n",
    "            soup = BeautifulSoup(response.content, 'html.parser')\n",
    "\n",
    "            # Print product links\n",
    "            get_product_links(soup, writer)\n",
    "\n",
    "            # Get next page if applicable\n",
    "            next_page = get_next_page(soup)\n",
    "\n",
    "\n",
    "# Use function to write links to file\n",
    "with open(LINK_FILE_PATH, 'w', newline='') as outfile:\n",
    "    writer = csv.writer(outfile)\n",
    "    page_parser(STARTING_LINK, writer)\n"
   ]
  },
  {
   "attachments": {},
   "cell_type": "markdown",
   "metadata": {},
   "source": [
    "### Get Data From Product Pages"
   ]
  },
  {
   "attachments": {},
   "cell_type": "markdown",
   "metadata": {},
   "source": [
    "#### Try Scraping Using Beautiful Soup\n"
   ]
  },
  {
   "attachments": {},
   "cell_type": "markdown",
   "metadata": {},
   "source": [
    "##### Store Test Data Locally\n"
   ]
  },
  {
   "cell_type": "code",
   "execution_count": null,
   "metadata": {},
   "outputs": [],
   "source": [
    "\n",
    "# Test Case URLs\n",
    "urls = [\n",
    "    \"https://www.metaldesignz.com/stainless-steel-jump-rings-14-gauge-9-32-id/\",\n",
    "    \"https://www.metaldesignz.com/rainbowed-anodized-titanium-jump-rings-16-gauge-3-8-id/\",\n",
    "]\n",
    "\n",
    "# Store all test pages locally\n",
    "pages = list()\n",
    "for url in urls:\n",
    "    sleep(5)\n",
    "    response = requests.get(url)\n",
    "    pages.append(BeautifulSoup(response.content, 'html.parser'))\n",
    "\n"
   ]
  },
  {
   "attachments": {},
   "cell_type": "markdown",
   "metadata": {},
   "source": [
    "##### Define a Function to Get Data from the Page"
   ]
  },
  {
   "cell_type": "code",
   "execution_count": null,
   "metadata": {},
   "outputs": [],
   "source": [
    "\n",
    "def parse_page(page: BeautifulSoup) -> dict:\n",
    "    # Define output\n",
    "    out = {\n",
    "        \"time_accessed \":       str(datetime.datetime.now()),\n",
    "        \"sku\":                  None,\n",
    "        \"product_name\":         None,\n",
    "        \"material\":             None,\n",
    "        \"price\":                None,\n",
    "        \"currency\":             \"CAD\",\n",
    "        \"wire_diameter_in\":     None,\n",
    "        \"wire_diameter_mm\":     None,\n",
    "        \"wire_diameter_gauge\":  None,\n",
    "        \"internal_diameter_in\": None,\n",
    "        \"internal_diameter_mm\": None,\n",
    "        \"aspect_ratio\":         None,\n",
    "        \"color\":                None,\n",
    "        \"bags_in_stock\":        None,\n",
    "        \"rings_per_bag\":        None,\n",
    "    }\n",
    "\n",
    "    # Get sku\n",
    "    sku = page.find('dd', {'data-product-sku': True}).text\n",
    "    out['sku'] = sku\n",
    "\n",
    "\n",
    "    # Get title\n",
    "    title = page.find('h1', {'class': 'productView-title'}).text\n",
    "    out['product_name'] = title\n",
    "\n",
    "\n",
    "    # Get Material\n",
    "    bread_crumbs = page.find('nav', {'aria-label': 'Breadcrumb'})\n",
    "    material = bread_crumbs.find_all('li')[2].text.strip()\n",
    "    out['material'] = material\n",
    "\n",
    "\n",
    "    # Get Price\n",
    "    price_section = page.find('div', {'class': 'productView-price'})\n",
    "    price_tag = price_section.find('span', {'data-product-price-without-tax': True})\n",
    "    price = price_tag.text\n",
    "    out['price'] = price\n",
    "\n",
    "\n",
    "    # Get Wire diameter info\n",
    "    gauge = ''.join([i for i in title.split('Gauge')[0] if i.isdigit()])\n",
    "    gauge_info = {\n",
    "        # Follows stated rule that Metal Designz uses SWG for 14-19 or AWG for 20-24\n",
    "        # Returns a tuple in the format: (metric, imperial, Gauge & System)\n",
    "        '14': (0.080, 2.032, '14 SWG'),\n",
    "        '15': (0.072, 1.829, '15 SWG'),\n",
    "        '16': (0.064, 1.626, '16 SWG'),\n",
    "        '17': (0.056, 1.422, '17 SWG'),\n",
    "        '18': (0.048, 1.219, '18 SWG'),\n",
    "        '19': (0.040, 1.016, '19 SWG'),\n",
    "        '20': (0.0320, 0.812, '20 AWG'),\n",
    "        '21': (0.0285, 0.723, '21 AWG'),\n",
    "        '22': (0.0253, 0.644, '22 AWG'),\n",
    "        '23': (0.0226, 0.573, '23 AWG'),\n",
    "        '24': (0.0201, 0.511, '24 AWG'),\n",
    "    }\n",
    "    out['wire_diameter_in'], out['wire_diameter_mm'], out['wire_diameter_gauge'] = gauge_info[gauge]\n",
    "\n",
    "\n",
    "    # Get Ring Inner Diameter\n",
    "    title = page.find('h1', {'class': 'productView-title'}).text\n",
    "    id_in_str = re.search(r'\\d+\\/\\d+\"', title, re.IGNORECASE).group()\n",
    "    numerator, denominator = id_in_str.strip('\"').split('/')\n",
    "    id_in = float(numerator) / float(denominator)\n",
    "    id_mm = id_in * 25.4\n",
    "    out['internal_diameter_in'] = id_in\n",
    "    out['internal_diameter_mm'] = id_mm\n",
    "\n",
    "\n",
    "    # Get Aspect Ratio\n",
    "    out['aspect_ratio'] = out['internal_diameter_in'] / out['wire_diameter_in']\n",
    "\n",
    "\n",
    "    # Return data\n",
    "    return out\n"
   ]
  },
  {
   "attachments": {},
   "cell_type": "markdown",
   "metadata": {},
   "source": [
    "##### Run All Test Cases"
   ]
  },
  {
   "cell_type": "code",
   "execution_count": null,
   "metadata": {},
   "outputs": [],
   "source": [
    "\n",
    "for page in pages:\n",
    "    results = parse_page(page)\n",
    "    print(results)\n",
    "\n"
   ]
  },
  {
   "attachments": {},
   "cell_type": "markdown",
   "metadata": {},
   "source": [
    "##### Experimentation"
   ]
  },
  {
   "cell_type": "code",
   "execution_count": null,
   "metadata": {},
   "outputs": [],
   "source": [
    "\n",
    "page = pages[0]\n",
    "\n",
    "title = page.find('h1', {'class': 'productView-title'}).text\n",
    "id_in_str = re.search(r'\\d+\\/\\d+\"', title, re.IGNORECASE).group()\n",
    "numerator, denominator = id_in_str.strip('\"').split('/')\n",
    "id_in = float(numerator) / float(denominator)\n",
    "id_mm = id_in * 25.4\n"
   ]
  },
  {
   "attachments": {},
   "cell_type": "markdown",
   "metadata": {},
   "source": [
    "#### Using Selenium"
   ]
  },
  {
   "attachments": {},
   "cell_type": "markdown",
   "metadata": {},
   "source": [
    "##### Setup"
   ]
  },
  {
   "cell_type": "code",
   "execution_count": 2,
   "metadata": {},
   "outputs": [],
   "source": [
    "\n",
    "\n",
    "# Create an easy way to start the webdriver\n",
    "def start_driver():\n",
    "    # Set options\n",
    "    options = Options()\n",
    "    # options.add_argument('--headless=new')\n",
    "\n",
    "    # Start webdriver\n",
    "    chrome_path = ChromeDriverManager().install()\n",
    "    chrome_service = Service(chrome_path)\n",
    "\n",
    "    driver = webdriver.Chrome(options=options, service=chrome_service)\n",
    "\n",
    "    return driver\n",
    "\n",
    "\n",
    "# Define a function that returns info about the products on a page given a url and a webdriver\n",
    "def parse_page(url: str, driver: webdriver) -> dict:\n",
    "    \n",
    "    # Get the page and wait a bit for it to load\n",
    "    driver.get(url)\n",
    "    sleep(3)\n",
    "\n",
    "    # Define output dictionary\n",
    "    out = {\n",
    "        \"time_accessed \":       str(datetime.datetime.now()),\n",
    "        \"sku\":                  None,\n",
    "        \"product_name\":         None,\n",
    "        \"material\":             None,\n",
    "        \"price\":                None,\n",
    "        \"currency\":             \"CAD\",\n",
    "        \"wire_diameter_in\":     None,\n",
    "        \"wire_diameter_mm\":     None,\n",
    "        \"wire_diameter_gauge\":  None,\n",
    "        \"internal_diameter_in\": None,\n",
    "        \"internal_diameter_mm\": None,\n",
    "        \"aspect_ratio\":         None,\n",
    "        \"color\":                None,\n",
    "        \"bags_in_stock\":        None,\n",
    "        \"rings_per_bag\":        None,\n",
    "    }\n",
    "\n",
    "\n",
    "    # Get sku\n",
    "    out['sku'] =  driver.find_element(By.CSS_SELECTOR, 'dd[data-product-sku]').text\n",
    "\n",
    "\n",
    "    # Get product name\n",
    "    out['product_name'] = driver.find_element(By.CSS_SELECTOR, 'h1.productView-title').text\n",
    "\n",
    "\n",
    "    # Get material\n",
    "    breadcrumbs = driver.find_element(By.CSS_SELECTOR, 'nav[aria-label=Breadcrumb]')\n",
    "    out['material'] = breadcrumbs.find_elements(By.CSS_SELECTOR, 'li')[2].text.strip()\n",
    "\n",
    "\n",
    "    # Get price\n",
    "    price_section = driver.find_element(By.CSS_SELECTOR, 'div.productView-price')\n",
    "    out['price'] = price_section.find_element(By.CSS_SELECTOR, 'span[data-product-price-without-tax]').text\n",
    "\n",
    "\n",
    "    # Get Wire diameter info\n",
    "    gauge = ''.join([i for i in out['product_name'].split('Gauge')[0] if i.isdigit()])\n",
    "    gauge_info = {\n",
    "        # Follows stated rule that Metal Designz uses SWG for 14-19 or AWG for 20-24\n",
    "        # Returns a tuple in the format: (metric, imperial, Gauge & System)\n",
    "        '14': (0.080, 2.032, '14 SWG'),\n",
    "        '15': (0.072, 1.829, '15 SWG'),\n",
    "        '16': (0.064, 1.626, '16 SWG'),\n",
    "        '17': (0.056, 1.422, '17 SWG'),\n",
    "        '18': (0.048, 1.219, '18 SWG'),\n",
    "        '19': (0.040, 1.016, '19 SWG'),\n",
    "        '20': (0.0320, 0.812, '20 AWG'),\n",
    "        '21': (0.0285, 0.723, '21 AWG'),\n",
    "        '22': (0.0253, 0.644, '22 AWG'),\n",
    "        '23': (0.0226, 0.573, '23 AWG'),\n",
    "        '24': (0.0201, 0.511, '24 AWG'),\n",
    "    }\n",
    "    out['wire_diameter_in'], out['wire_diameter_mm'], out['wire_diameter_gauge'] = gauge_info[gauge]\n",
    "\n",
    "\n",
    "    # Get Ring Inner Diameter\n",
    "    id_in_str = re.search(r'\\d+\\/\\d+\"', out['product_name'], re.IGNORECASE).group()\n",
    "    numerator, denominator = id_in_str.strip('\"').split('/')\n",
    "    id_in = float(numerator) / float(denominator)\n",
    "    id_mm = id_in * 25.4\n",
    "    out['internal_diameter_in'] = id_in\n",
    "    out['internal_diameter_mm'] = id_mm\n",
    "\n",
    "\n",
    "    # Get Aspect Ratio\n",
    "    out['aspect_ratio'] = out['internal_diameter_in'] / out['wire_diameter_in']\n",
    "\n",
    "\n",
    "    yield out\n"
   ]
  },
  {
   "attachments": {},
   "cell_type": "markdown",
   "metadata": {},
   "source": [
    "##### Run Parsing Function on Testing Pages"
   ]
  },
  {
   "cell_type": "code",
   "execution_count": 3,
   "metadata": {},
   "outputs": [
    {
     "name": "stderr",
     "output_type": "stream",
     "text": [
      "[WDM] - Downloading:  92%|█████████▏| 5.77M/6.30M [00:01<00:00, 5.50MB/s]"
     ]
    },
    {
     "name": "stdout",
     "output_type": "stream",
     "text": [
      "{'time_accessed ': '2023-07-10 19:57:35.020602', 'sku': 'SS14932', 'product_name': 'Stainless Steel Jump Rings 14 Gauge 9/32\" id.', 'material': 'Stainless Steel', 'price': '$11.25 - $83.84', 'currency': 'CAD', 'wire_diameter_in': 0.08, 'wire_diameter_mm': 2.032, 'wire_diameter_gauge': '14 SWG', 'internal_diameter_in': 0.28125, 'internal_diameter_mm': 7.14375, 'aspect_ratio': 3.515625, 'color': None, 'bags_in_stock': None, 'rings_per_bag': None}\n",
      "{'time_accessed ': '2023-07-10 19:57:44.399631', 'sku': 'RTi1638', 'product_name': 'Rainbowed Anodized Titanium Jump Rings 16 Gauge 3/8\" id.', 'material': 'Titanium', 'price': '$18.00 - $134.14', 'currency': 'CAD', 'wire_diameter_in': 0.064, 'wire_diameter_mm': 1.626, 'wire_diameter_gauge': '16 SWG', 'internal_diameter_in': 0.375, 'internal_diameter_mm': 9.524999999999999, 'aspect_ratio': 5.859375, 'color': None, 'bags_in_stock': None, 'rings_per_bag': None}\n"
     ]
    },
    {
     "name": "stderr",
     "output_type": "stream",
     "text": [
      "[WDM] - Downloading: 100%|██████████| 6.30M/6.30M [00:19<00:00, 5.50MB/s]"
     ]
    }
   ],
   "source": [
    "\n",
    "# Testing URLs\n",
    "urls = [\n",
    "    \"https://www.metaldesignz.com/stainless-steel-jump-rings-14-gauge-9-32-id/\",\n",
    "    \"https://www.metaldesignz.com/rainbowed-anodized-titanium-jump-rings-16-gauge-3-8-id/\",\n",
    "]\n",
    "\n",
    "\n",
    "driver = start_driver()\n",
    "\n",
    "for url in urls:\n",
    "    for product in parse_page(url, driver):\n",
    "        print(product)\n",
    "    sleep(5)\n"
   ]
  },
  {
   "attachments": {},
   "cell_type": "markdown",
   "metadata": {},
   "source": [
    "##### Experimentation"
   ]
  },
  {
   "cell_type": "code",
   "execution_count": null,
   "metadata": {},
   "outputs": [],
   "source": [
    "driver = start_driver()\n",
    "\n",
    "sleep(5)\n",
    "\n",
    "driver.get(\"https://www.metaldesignz.com/stainless-steel-jump-rings-14-gauge-9-32-id/\")"
   ]
  },
  {
   "cell_type": "code",
   "execution_count": null,
   "metadata": {},
   "outputs": [],
   "source": [
    "\n",
    "\"\"\"\n",
    "    # Get Ring Inner Diameter\n",
    "    id_in_str = re.search(r'\\d+\\/\\d+\"', title, re.IGNORECASE).group()\n",
    "    numerator, denominator = id_in_str.strip('\"').split('/')\n",
    "    id_in = float(numerator) / float(denominator)\n",
    "    id_mm = id_in * 25.4\n",
    "    out['internal_diameter_in'] = id_in\n",
    "    out['internal_diameter_mm'] = id_mm\n",
    "\n",
    "\"\"\"\n",
    "\n",
    "title = driver.find_element(By.CSS_SELECTOR, 'h1.productView-title').text\n",
    "\n",
    "gauge = ''.join([i for i in title.split('Gauge')[0] if i.isdigit()])\n",
    "gauge_info = {\n",
    "    # Follows stated rule that Metal Designz uses SWG for 14-19 or AWG for 20-24\n",
    "    # Returns a tuple in the format: (metric, imperial, Gauge & System)\n",
    "    '14': (0.080, 2.032, '14 SWG'),\n",
    "    '15': (0.072, 1.829, '15 SWG'),\n",
    "    '16': (0.064, 1.626, '16 SWG'),\n",
    "    '17': (0.056, 1.422, '17 SWG'),\n",
    "    '18': (0.048, 1.219, '18 SWG'),\n",
    "    '19': (0.040, 1.016, '19 SWG'),\n",
    "    '20': (0.0320, 0.812, '20 AWG'),\n",
    "    '21': (0.0285, 0.723, '21 AWG'),\n",
    "    '22': (0.0253, 0.644, '22 AWG'),\n",
    "    '23': (0.0226, 0.573, '23 AWG'),\n",
    "    '24': (0.0201, 0.511, '24 AWG'),\n",
    "}\n",
    "gauge_info[gauge]\n",
    "\n",
    "\n"
   ]
  }
 ],
 "metadata": {
  "kernelspec": {
   "display_name": ".venv",
   "language": "python",
   "name": "python3"
  },
  "language_info": {
   "codemirror_mode": {
    "name": "ipython",
    "version": 3
   },
   "file_extension": ".py",
   "mimetype": "text/x-python",
   "name": "python",
   "nbconvert_exporter": "python",
   "pygments_lexer": "ipython3",
   "version": "3.9.13"
  },
  "orig_nbformat": 4
 },
 "nbformat": 4,
 "nbformat_minor": 2
}
