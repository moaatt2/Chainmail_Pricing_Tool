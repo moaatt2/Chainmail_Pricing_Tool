{
 "cells": [
  {
   "attachments": {},
   "cell_type": "markdown",
   "metadata": {},
   "source": [
    "# Metal Designz Scraping"
   ]
  },
  {
   "attachments": {},
   "cell_type": "markdown",
   "metadata": {},
   "source": [
    "## Imports and Setup"
   ]
  },
  {
   "cell_type": "code",
   "execution_count": 1,
   "metadata": {},
   "outputs": [],
   "source": [
    "# Imports\n",
    "import requests\n",
    "from bs4 import BeautifulSoup\n",
    "from time import sleep\n",
    "\n",
    "# Set Variables\n",
    "SLEEP_TIME = 5\n",
    "STARTING_LINK = 'https://www.metaldesignz.com/jump-rings/'\n",
    "LINK_FILE_PATH = '../../product_page_listings/metal_designz/metal_designz_products.csv'\n"
   ]
  },
  {
   "attachments": {},
   "cell_type": "markdown",
   "metadata": {},
   "source": [
    "## Get Data"
   ]
  },
  {
   "attachments": {},
   "cell_type": "markdown",
   "metadata": {},
   "source": [
    "### Find All Product Pages\n",
    "\n",
    "Looking at their website it appears that the basic structure is a main page with side bar links to sub pages for each ring category. The sub pages link to product pages but if there are enough product pages they will be paginated.\n"
   ]
  },
  {
   "cell_type": "code",
   "execution_count": 2,
   "metadata": {},
   "outputs": [
    {
     "name": "stdout",
     "output_type": "stream",
     "text": [
      "https://www.metaldesignz.com/rubber/\n",
      "https://www.metaldesignz.com/sterling-silver-filled/\n",
      "https://www.metaldesignz.com/bright-aluminum/\n",
      "https://www.metaldesignz.com/anodized-aluminum/\n",
      "https://www.metaldesignz.com/sterling-silver/\n",
      "https://www.metaldesignz.com/bronze/\n",
      "https://www.metaldesignz.com/twisted/\n",
      "https://www.metaldesignz.com/jewelers-brass/\n",
      "https://www.metaldesignz.com/stainless-steel/\n",
      "https://www.metaldesignz.com/niobium/\n",
      "https://www.metaldesignz.com/titanium/\n",
      "https://www.metaldesignz.com/gold-fill/\n",
      "https://www.metaldesignz.com/square-jump-rings/\n",
      "https://www.metaldesignz.com/new-anodized-aluminum/\n",
      "https://www.metaldesignz.com/half-round-wire-rings/\n",
      "https://www.metaldesignz.com/copper-1/\n"
     ]
    }
   ],
   "source": [
    "links_encountered = set()\n",
    "\n",
    "def page_parser(url: str) -> None:\n",
    "    # Get page and create a parsable object\n",
    "    response = requests.get(url)\n",
    "    soup = BeautifulSoup(response.content, 'html.parser')\n",
    "\n",
    "    # Get links to category pages\n",
    "    sidebar = soup.find('aside', {'class': 'page-sidebar'})\n",
    "    category_sidebar = sidebar.find(lambda tag: tag.name == 'div' and tag.find('h2', string='Jump Rings') is not None)\n",
    "    category_links = set(map(lambda tag: tag['href'], category_sidebar.find_all('a')))\n",
    "\n",
    "    for link in category_links:\n",
    "        print(link)\n",
    "\n",
    "\n",
    "page_parser(STARTING_LINK)"
   ]
  },
  {
   "attachments": {},
   "cell_type": "markdown",
   "metadata": {},
   "source": [
    "### Get Data From Product Pages"
   ]
  },
  {
   "cell_type": "code",
   "execution_count": null,
   "metadata": {},
   "outputs": [],
   "source": []
  }
 ],
 "metadata": {
  "kernelspec": {
   "display_name": ".venv",
   "language": "python",
   "name": "python3"
  },
  "language_info": {
   "codemirror_mode": {
    "name": "ipython",
    "version": 3
   },
   "file_extension": ".py",
   "mimetype": "text/x-python",
   "name": "python",
   "nbconvert_exporter": "python",
   "pygments_lexer": "ipython3",
   "version": "3.9.13"
  },
  "orig_nbformat": 4
 },
 "nbformat": 4,
 "nbformat_minor": 2
}
